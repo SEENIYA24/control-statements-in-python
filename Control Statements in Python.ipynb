{
 "cells": [
  {
   "cell_type": "code",
   "execution_count": null,
   "id": "2dad77fb-5be0-4b9f-b411-e34e29a7f587",
   "metadata": {},
   "outputs": [],
   "source": [
    "#Control Statements in Python"
   ]
  },
  {
   "cell_type": "code",
   "execution_count": null,
   "id": "3607d379-1776-4bbf-838e-07a747674e70",
   "metadata": {},
   "outputs": [],
   "source": [
    "#Exercise 1\n",
    "Name your file: MonthNames.py\n",
    "Write a program that reads an integer value between 1 and 12 from the user and prints output the corresponding month of the year.\n",
    "An example run of the program (numbers in bold are typed in by the user)\n",
    "Enter the month: 3\n",
    "Month 3 is March\n",
    "\n"
   ]
  },
  {
   "cell_type": "code",
   "execution_count": 3,
   "id": "a8fac7f4-2ad2-4f72-8187-561016c6e49b",
   "metadata": {},
   "outputs": [
    {
     "name": "stdin",
     "output_type": "stream",
     "text": [
      "Enter the month:  2\n"
     ]
    },
    {
     "name": "stdout",
     "output_type": "stream",
     "text": [
      "Month 2 is February\n"
     ]
    }
   ],
   "source": [
    "def get_month(num):\n",
    "    months = [\"January\", \"February\", \"March\", \"April\", \"May\", \"June\", \n",
    "              \"July\", \"August\", \"September\", \"October\", \"November\", \"December\"]\n",
    "    return months[num - 1]\n",
    "\n",
    "num = int(input(\"Enter the month: \"))\n",
    "if 1 <= num <= 12:\n",
    "    print(f\"Month {num} is {get_month(num)}\")\n",
    "else:\n",
    "    print(\"Invalid month number\")\n",
    "    "
   ]
  },
  {
   "cell_type": "code",
   "execution_count": null,
   "id": "669d0945-618c-4ef5-9bdf-d93906ee5c7a",
   "metadata": {},
   "outputs": [],
   "source": [
    "#Exercise 2\n",
    "A certain cinema currently sells tickets for a full price of 6 pounds, but always sells tickets for half price to people who are less than 16 years old, and for a third of the price for people who are 60 years old or more.\n",
    "An example run of the program (numbers in bold are typed in by the user)\n",
    "Enter your age: 63\n",
    "Your ticket costs £2.00\n"
   ]
  },
  {
   "cell_type": "code",
   "execution_count": 25,
   "id": "55102297-81c0-405b-9ee0-01d09a1c1b57",
   "metadata": {},
   "outputs": [
    {
     "name": "stdin",
     "output_type": "stream",
     "text": [
      "Enter your age:  20\n"
     ]
    },
    {
     "name": "stdout",
     "output_type": "stream",
     "text": [
      "Your ticket costs £6.00\n"
     ]
    }
   ],
   "source": [
    "# CinemaTicket.py\n",
    "\n",
    "def calculate_ticket_price(age):\n",
    "    full_price = 6\n",
    "    if age < 16:\n",
    "        return full_price / 2\n",
    "    elif age >= 60:\n",
    "        return full_price / 3\n",
    "    else:\n",
    "        return full_price\n",
    "\n",
    "age = int(input(\"Enter your age: \"))\n",
    "price = calculate_ticket_price(age)\n",
    "print(f\"Your ticket costs £{price:.2f}\")"
   ]
  },
  {
   "cell_type": "code",
   "execution_count": null,
   "id": "366f9458-41e4-4e2c-8649-bbbe834ef995",
   "metadata": {},
   "outputs": [],
   "source": []
  },
  {
   "cell_type": "code",
   "execution_count": null,
   "id": "54c5f2f9-31e7-4c0a-b1f2-02051a343bc5",
   "metadata": {},
   "outputs": [],
   "source": [
    "#Exercise 3\n",
    "Name your file: BodyMassIndex.py\n",
    "Write a program to calculate your BMI and give weight status. Body Mass Index (BMI) is an internationally used measurement to check if you are a healthy weight for your height.The metric BMI formula accepts weight in kilograms and height in meters:\n",
    "BMI= weight(kg)/height2(m2)\n",
    "BMI Weight Status Categories table\n",
    "BMI range - kg/m2   Category\n",
    "Below 18.5                    Underweight\n",
    "18.5 -24.9         Normal\n",
    "25 - 29.9          Overweight\n",
    "30 & Above     Obese\n",
    "An example run of the program (numbers in bold are typed in by the user)\n",
    "Enter your weight in (kg): 75\n",
    "Enter your height in (m): 1.70\n",
    "Your BMI is: 25.95\n",
    "You are in the “overweight” range"
   ]
  },
  {
   "cell_type": "code",
   "execution_count": 7,
   "id": "7596bf72-0da3-41df-aa90-33bca7fcdc5d",
   "metadata": {},
   "outputs": [
    {
     "name": "stdin",
     "output_type": "stream",
     "text": [
      "Enter your weight in (kg):  26\n",
      "Enter your height in (m):  120\n"
     ]
    },
    {
     "name": "stdout",
     "output_type": "stream",
     "text": [
      "Your BMI is: 0.00\n",
      "You are in the \"Underweight\" range.\n"
     ]
    }
   ],
   "source": [
    "def calculate_bmi(weight, height):\n",
    "    bmi = weight / (height ** 2)\n",
    "    return bmi\n",
    "\n",
    "def get_weight_status(bmi):\n",
    "    if bmi < 18.5:\n",
    "        return \"Underweight\"\n",
    "    elif 18.5 <= bmi < 25:\n",
    "        return \"Normal\"\n",
    "    elif 25 <= bmi < 30:\n",
    "        return \"Overweight\"\n",
    "    else:\n",
    "        return \"Obese\"\n",
    "\n",
    "weight = float(input(\"Enter your weight in (kg): \"))\n",
    "height = float(input(\"Enter your height in (m): \"))\n",
    "\n",
    "bmi = calculate_bmi(weight, height)\n",
    "status = get_weight_status(bmi)\n",
    "\n",
    "print(f\"Your BMI is: {bmi:.2f}\")\n",
    "print(f\"You are in the \\\"{status}\\\" range.\")\n"
   ]
  },
  {
   "cell_type": "code",
   "execution_count": null,
   "id": "c6478230-2345-4306-9ccd-01ccc9bfc8e7",
   "metadata": {},
   "outputs": [],
   "source": [
    "\n",
    "#Exercise 4\n",
    "Write a Python program to receive 3 numbers from the user and print the greatest among them.\n"
   ]
  },
  {
   "cell_type": "code",
   "execution_count": 9,
   "id": "1b181192-4c60-4324-8b21-95ee002126ac",
   "metadata": {},
   "outputs": [
    {
     "name": "stdin",
     "output_type": "stream",
     "text": [
      "Enter first number:  2\n",
      "Enter second number:  3\n",
      "Enter third number:  4\n"
     ]
    },
    {
     "name": "stdout",
     "output_type": "stream",
     "text": [
      "The greatest number is: 4.0\n"
     ]
    }
   ],
   "source": [
    "# GreatestNumber.py\n",
    "\n",
    "def find_greatest(a, b, c):\n",
    "    return max(a, b, c)\n",
    "\n",
    "a = float(input(\"Enter first number: \"))\n",
    "b = float(input(\"Enter second number: \"))\n",
    "c = float(input(\"Enter third number: \"))\n",
    "\n",
    "print(f\"The greatest number is: {find_greatest(a, b, c)}\")"
   ]
  },
  {
   "cell_type": "code",
   "execution_count": null,
   "id": "a5657447-d531-4297-acc2-eb18f881438f",
   "metadata": {},
   "outputs": [],
   "source": [
    "#Exercise 5\n",
    "Find the factorial of a given number using loops(note the number is received from the user)"
   ]
  },
  {
   "cell_type": "code",
   "execution_count": 11,
   "id": "128eb45d-d15b-4840-be30-dd2bed9dfcf2",
   "metadata": {},
   "outputs": [
    {
     "name": "stdin",
     "output_type": "stream",
     "text": [
      "Enter a number:  1\n"
     ]
    },
    {
     "name": "stdout",
     "output_type": "stream",
     "text": [
      "The factorial of 1 is: 1\n"
     ]
    }
   ],
   "source": [
    "def calculate_factorial(n):\n",
    "    factorial = 1\n",
    "    for i in range(1, n + 1):\n",
    "        factorial *= i\n",
    "    return factorial\n",
    "\n",
    "num = int(input(\"Enter a number: \"))\n",
    "if num >= 0:\n",
    "    print(f\"The factorial of {num} is: {calculate_factorial(num)}\")\n",
    "else:\n",
    "    print(\"Factorial is not defined for negative numbers\")"
   ]
  },
  {
   "cell_type": "code",
   "execution_count": null,
   "id": "0d148c5e-ee70-4028-8827-90b70096396f",
   "metadata": {},
   "outputs": [],
   "source": [
    "#Exercise 6\n",
    "Reverse a number using while loop"
   ]
  },
  {
   "cell_type": "code",
   "execution_count": 13,
   "id": "9550fef8-263a-4551-844c-c69dfca06c0b",
   "metadata": {},
   "outputs": [
    {
     "name": "stdin",
     "output_type": "stream",
     "text": [
      "Enter a number:  5\n"
     ]
    },
    {
     "name": "stdout",
     "output_type": "stream",
     "text": [
      "The reverse of 5 is: 5\n"
     ]
    }
   ],
   "source": [
    "def reverse_number(n):\n",
    "    reversed_num = 0\n",
    "    while n > 0:\n",
    "        digit = n % 10\n",
    "        reversed_num = reversed_num * 10 + digit\n",
    "        n //= 10\n",
    "    return reversed_num\n",
    "\n",
    "num = int(input(\"Enter a number: \"))\n",
    "print(f\"The reverse of {num} is: {reverse_number(num)}\")"
   ]
  },
  {
   "cell_type": "code",
   "execution_count": null,
   "id": "448a6aa0-8e43-4042-a472-d697d7d89a5e",
   "metadata": {},
   "outputs": [],
   "source": [
    "#Exercise 7\n",
    "Finding the multiples of a number using loop"
   ]
  },
  {
   "cell_type": "code",
   "execution_count": 15,
   "id": "738df59f-cf1d-466a-beec-f1bb12b5f413",
   "metadata": {},
   "outputs": [
    {
     "name": "stdin",
     "output_type": "stream",
     "text": [
      "Enter a number:  7\n"
     ]
    },
    {
     "name": "stdout",
     "output_type": "stream",
     "text": [
      "7 x 1 = 7\n",
      "7 x 2 = 14\n",
      "7 x 3 = 21\n",
      "7 x 4 = 28\n",
      "7 x 5 = 35\n",
      "7 x 6 = 42\n",
      "7 x 7 = 49\n",
      "7 x 8 = 56\n",
      "7 x 9 = 63\n",
      "7 x 10 = 70\n"
     ]
    }
   ],
   "source": [
    "# Multiples.py\n",
    "\n",
    "def print_multiples(n):\n",
    "    for i in range(1, 11):\n",
    "        print(f\"{n} x {i} = {n * i}\")\n",
    "\n",
    "num = int(input(\"Enter a number: \"))\n",
    "print_multiples(num)"
   ]
  },
  {
   "cell_type": "code",
   "execution_count": null,
   "id": "20911a5a-9374-4c5a-9579-b7bb1beea4c7",
   "metadata": {},
   "outputs": [],
   "source": [
    "5#Exercise 8\n",
    "Write a program to print the inputted value as it is and break the loop if the value is 'done'.\n",
    "Example run of the program\n",
    ":hello there\n",
    "hello there\n",
    ":finished\n",
    "finished\n",
    ":done\n",
    "Done\n"
   ]
  },
  {
   "cell_type": "code",
   "execution_count": 17,
   "id": "eb1d54bc-cde0-4b50-9abc-3075e75b8493",
   "metadata": {},
   "outputs": [
    {
     "name": "stdin",
     "output_type": "stream",
     "text": [
      ": 7\n"
     ]
    },
    {
     "name": "stdout",
     "output_type": "stream",
     "text": [
      "7\n"
     ]
    },
    {
     "name": "stdin",
     "output_type": "stream",
     "text": [
      ": 6\n"
     ]
    },
    {
     "name": "stdout",
     "output_type": "stream",
     "text": [
      "6\n"
     ]
    },
    {
     "name": "stdin",
     "output_type": "stream",
     "text": [
      ": 9\n"
     ]
    },
    {
     "name": "stdout",
     "output_type": "stream",
     "text": [
      "9\n"
     ]
    },
    {
     "name": "stdin",
     "output_type": "stream",
     "text": [
      ": 3\n"
     ]
    },
    {
     "name": "stdout",
     "output_type": "stream",
     "text": [
      "3\n"
     ]
    },
    {
     "name": "stdin",
     "output_type": "stream",
     "text": [
      ": 2\n"
     ]
    },
    {
     "name": "stdout",
     "output_type": "stream",
     "text": [
      "2\n"
     ]
    },
    {
     "name": "stdin",
     "output_type": "stream",
     "text": [
      ": done\n"
     ]
    },
    {
     "name": "stdout",
     "output_type": "stream",
     "text": [
      "Done\n"
     ]
    }
   ],
   "source": [
    "# PrintInput.py\n",
    "\n",
    "while True:\n",
    "    user_input = input(\":\")\n",
    "    if user_input.lower() == \"done\":\n",
    "        print(\"Done\")\n",
    "        break\n",
    "    else:\n",
    "        print(user_input)"
   ]
  },
  {
   "cell_type": "code",
   "execution_count": null,
   "id": "b0b11602-181a-4095-bb3a-b456b8a1c224",
   "metadata": {},
   "outputs": [],
   "source": [
    "#Exercise 9\n",
    "Write a program that prints the numbers from 1 to 10. But for multiples of three print \"Fizz\" instead of the number and for the multiple of five print \"Buzz\". For numbers which are multiples of both three and five print \"FizzBuzz\"\n"
   ]
  },
  {
   "cell_type": "code",
   "execution_count": 21,
   "id": "3a8a535c-60f8-428d-81b0-3b8bb10244dc",
   "metadata": {},
   "outputs": [
    {
     "name": "stdout",
     "output_type": "stream",
     "text": [
      "1\n",
      "2\n",
      "Fizz\n",
      "4\n",
      "Buzz\n",
      "Fizz\n",
      "7\n",
      "8\n",
      "Fizz\n",
      "Buzz\n"
     ]
    }
   ],
   "source": [
    " #FizzBuzz.py\n",
    "\n",
    "for i in range(1, 11):\n",
    "    if i % 3 == 0 and i % 5 == 0:\n",
    "        print(\"FizzBuzz\")\n",
    "    elif i % 3 == 0:\n",
    "        print(\"Fizz\")\n",
    "    elif i % 5 == 0:\n",
    "        print(\"Buzz\")\n",
    "    else:\n",
    "        print(i)"
   ]
  },
  {
   "cell_type": "code",
   "execution_count": null,
   "id": "41c83024-43a0-40bc-a62a-7f26221dc792",
   "metadata": {},
   "outputs": [],
   "source": [
    "#Exercise 10\n",
    "Write a program to print the following pattern:\n",
    "\n",
    "5 4 3 2 1\n",
    "4 3 2 1\n",
    "3 2 1\n",
    "2 1\n",
    "1"
   ]
  },
  {
   "cell_type": "code",
   "execution_count": 23,
   "id": "cf06905f-364d-46af-bc05-2755eca1c6bb",
   "metadata": {},
   "outputs": [
    {
     "name": "stdout",
     "output_type": "stream",
     "text": [
      "5 4 3 2 1 \n",
      "4 3 2 1 \n",
      "3 2 1 \n",
      "2 1 \n",
      "1 \n"
     ]
    }
   ],
   "source": [
    "# Pattern.py\n",
    "\n",
    "for i in range(5, 0, -1):\n",
    "    for j in range(i, 0, -1):\n",
    "        print(j, end=\" \")\n",
    "    print()"
   ]
  },
  {
   "cell_type": "code",
   "execution_count": null,
   "id": "3b86320a-000b-4550-961c-a8821c6e6cdf",
   "metadata": {},
   "outputs": [],
   "source": []
  }
 ],
 "metadata": {
  "kernelspec": {
   "display_name": "Python 3 (ipykernel)",
   "language": "python",
   "name": "python3"
  },
  "language_info": {
   "codemirror_mode": {
    "name": "ipython",
    "version": 3
   },
   "file_extension": ".py",
   "mimetype": "text/x-python",
   "name": "python",
   "nbconvert_exporter": "python",
   "pygments_lexer": "ipython3",
   "version": "3.12.4"
  }
 },
 "nbformat": 4,
 "nbformat_minor": 5
}
